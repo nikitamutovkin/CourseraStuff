{
 "cells": [
  {
   "cell_type": "code",
   "execution_count": 188,
   "metadata": {},
   "outputs": [
    {
     "name": "stdout",
     "output_type": "stream",
     "text": [
      "Populating the interactive namespace from numpy and matplotlib\n"
     ]
    }
   ],
   "source": [
    "import numpy as np\n",
    "import matplotlib.pyplot as plt\n",
    "import pandas as pd\n",
    "import folium\n",
    "import geojson\n",
    "from IPython.display import HTML\n",
    "from ipywidgets import widgets, fixed\n",
    "from IPython.display import HTML\n",
    "import datetime\n",
    "%pylab inline"
   ]
  },
  {
   "cell_type": "markdown",
   "metadata": {},
   "source": [
    "# 1. Подготовка данных"
   ]
  },
  {
   "cell_type": "markdown",
   "metadata": {},
   "source": [
    "Загрузим данные по регионам"
   ]
  },
  {
   "cell_type": "code",
   "execution_count": 6,
   "metadata": {},
   "outputs": [],
   "source": [
    "regions_df = pd.read_csv('regions.csv', sep=';')"
   ]
  },
  {
   "cell_type": "markdown",
   "metadata": {},
   "source": [
    "Составим объект GeoJSON по которому будет строиться распределние числа поездок на картах Folium"
   ]
  },
  {
   "cell_type": "code",
   "execution_count": 11,
   "metadata": {},
   "outputs": [],
   "source": [
    "lonPoints = regions_df.iloc[::50, 1].values\n",
    "lonPoints = np.append(lonPoints, regions_df.iloc[-1, 2])\n",
    "latPoints = regions_df.iloc[:50, 3].values\n",
    "latPoints = np.append(latPoints, regions_df.iloc[-1, 4])\n",
    "\n",
    "regions_geo = 'map.geojson'\n",
    "def region2geojson(reg_df, save_fnm='map.geojson'):\n",
    "    features = []\n",
    "    reg_df.apply(\n",
    "        lambda X: features.append(\n",
    "            geojson.Feature(\n",
    "                geometry=geojson.Polygon(\n",
    "                    [\n",
    "                        [\n",
    "                            [X['west'], X['south']],\n",
    "                            [X['east'], X['south']],\n",
    "                            [X['east'], X['north']],\n",
    "                            [X['west'], X['north']],\n",
    "                            [X['west'], X['south']]\n",
    "                        ]\n",
    "                    ]\n",
    "                ), \n",
    "                id=X['region']\n",
    "            )\n",
    "        ),\n",
    "        axis=1\n",
    "    )\n",
    "    with open(save_fnm, 'w') as f:\n",
    "        geojson.dump(geojson.FeatureCollection(features), f, sort_keys=True)\n",
    "region2geojson(regions_df, regions_geo)"
   ]
  },
  {
   "cell_type": "markdown",
   "metadata": {},
   "source": [
    "Обрабатываем агрегированные данные за июнь 2016 года (ноутбук с первой недели который это делает, приложен в архиве)"
   ]
  },
  {
   "cell_type": "code",
   "execution_count": 26,
   "metadata": {},
   "outputs": [],
   "source": [
    "agg_data = pd.read_csv('Yellow_taxi_aggregated_data_06.csv', sep='\\t')\n",
    "pivot_data = pd.pivot_table(agg_data, values='trips',index='pickup_datehour', columns='region_number')"
   ]
  },
  {
   "cell_type": "markdown",
   "metadata": {},
   "source": [
    "Загружаем данные предсказаний с прошлой недели за июнь (файл приложен в архиве)"
   ]
  },
  {
   "cell_type": "code",
   "execution_count": 85,
   "metadata": {},
   "outputs": [],
   "source": [
    "predicted_data = pd.read_csv('06_pred_data.csv', sep=',')"
   ]
  },
  {
   "cell_type": "code",
   "execution_count": 217,
   "metadata": {},
   "outputs": [
    {
     "data": {
      "text/html": [
       "<div>\n",
       "<style scoped>\n",
       "    .dataframe tbody tr th:only-of-type {\n",
       "        vertical-align: middle;\n",
       "    }\n",
       "\n",
       "    .dataframe tbody tr th {\n",
       "        vertical-align: top;\n",
       "    }\n",
       "\n",
       "    .dataframe thead th {\n",
       "        text-align: right;\n",
       "    }\n",
       "</style>\n",
       "<table border=\"1\" class=\"dataframe\">\n",
       "  <thead>\n",
       "    <tr style=\"text-align: right;\">\n",
       "      <th></th>\n",
       "      <th>Time</th>\n",
       "      <th>region_1075_pred_1</th>\n",
       "      <th>region_1075_pred_2</th>\n",
       "      <th>region_1075_pred_3</th>\n",
       "      <th>region_1075_pred_4</th>\n",
       "      <th>region_1075_pred_5</th>\n",
       "      <th>region_1075_pred_6</th>\n",
       "      <th>region_1076_pred_1</th>\n",
       "      <th>region_1076_pred_2</th>\n",
       "      <th>region_1076_pred_3</th>\n",
       "      <th>...</th>\n",
       "      <th>region_2119_pred_3</th>\n",
       "      <th>region_2119_pred_4</th>\n",
       "      <th>region_2119_pred_5</th>\n",
       "      <th>region_2119_pred_6</th>\n",
       "      <th>region_2168_pred_1</th>\n",
       "      <th>region_2168_pred_2</th>\n",
       "      <th>region_2168_pred_3</th>\n",
       "      <th>region_2168_pred_4</th>\n",
       "      <th>region_2168_pred_5</th>\n",
       "      <th>region_2168_pred_6</th>\n",
       "    </tr>\n",
       "  </thead>\n",
       "  <tbody>\n",
       "    <tr>\n",
       "      <th>0</th>\n",
       "      <td>2016-06-01 00:00:00</td>\n",
       "      <td>16.275969</td>\n",
       "      <td>8.395596</td>\n",
       "      <td>5.223240</td>\n",
       "      <td>5.900229</td>\n",
       "      <td>6.075602</td>\n",
       "      <td>21.104652</td>\n",
       "      <td>18.784014</td>\n",
       "      <td>8.166911</td>\n",
       "      <td>6.418157</td>\n",
       "      <td>...</td>\n",
       "      <td>9.836746</td>\n",
       "      <td>4.118093</td>\n",
       "      <td>1.596856</td>\n",
       "      <td>16.479183</td>\n",
       "      <td>48.286045</td>\n",
       "      <td>14.661408</td>\n",
       "      <td>5.560575</td>\n",
       "      <td>13.777409</td>\n",
       "      <td>68.21791</td>\n",
       "      <td>100.520355</td>\n",
       "    </tr>\n",
       "    <tr>\n",
       "      <th>1</th>\n",
       "      <td>2016-06-01 01:00:00</td>\n",
       "      <td>10.199077</td>\n",
       "      <td>2.086159</td>\n",
       "      <td>1.090883</td>\n",
       "      <td>8.195955</td>\n",
       "      <td>20.094337</td>\n",
       "      <td>49.345028</td>\n",
       "      <td>9.194854</td>\n",
       "      <td>7.260076</td>\n",
       "      <td>10.103031</td>\n",
       "      <td>...</td>\n",
       "      <td>1.302887</td>\n",
       "      <td>6.501968</td>\n",
       "      <td>16.845543</td>\n",
       "      <td>29.875998</td>\n",
       "      <td>20.469501</td>\n",
       "      <td>14.912552</td>\n",
       "      <td>13.649523</td>\n",
       "      <td>72.135506</td>\n",
       "      <td>99.14274</td>\n",
       "      <td>111.859850</td>\n",
       "    </tr>\n",
       "    <tr>\n",
       "      <th>2</th>\n",
       "      <td>2016-06-01 02:00:00</td>\n",
       "      <td>2.969585</td>\n",
       "      <td>1.596949</td>\n",
       "      <td>7.932816</td>\n",
       "      <td>19.107397</td>\n",
       "      <td>42.493942</td>\n",
       "      <td>71.383575</td>\n",
       "      <td>5.818487</td>\n",
       "      <td>8.218873</td>\n",
       "      <td>24.205297</td>\n",
       "      <td>...</td>\n",
       "      <td>4.312404</td>\n",
       "      <td>12.373288</td>\n",
       "      <td>25.853992</td>\n",
       "      <td>18.350248</td>\n",
       "      <td>2.733718</td>\n",
       "      <td>18.607346</td>\n",
       "      <td>68.401474</td>\n",
       "      <td>93.752140</td>\n",
       "      <td>103.35940</td>\n",
       "      <td>118.808960</td>\n",
       "    </tr>\n",
       "    <tr>\n",
       "      <th>3</th>\n",
       "      <td>2016-06-01 03:00:00</td>\n",
       "      <td>2.906151</td>\n",
       "      <td>5.563781</td>\n",
       "      <td>16.212353</td>\n",
       "      <td>44.392970</td>\n",
       "      <td>68.589960</td>\n",
       "      <td>60.996870</td>\n",
       "      <td>7.041464</td>\n",
       "      <td>26.468240</td>\n",
       "      <td>67.047170</td>\n",
       "      <td>...</td>\n",
       "      <td>16.355448</td>\n",
       "      <td>29.822271</td>\n",
       "      <td>12.960480</td>\n",
       "      <td>23.071472</td>\n",
       "      <td>9.922137</td>\n",
       "      <td>66.780380</td>\n",
       "      <td>88.696945</td>\n",
       "      <td>116.331635</td>\n",
       "      <td>114.75919</td>\n",
       "      <td>92.338340</td>\n",
       "    </tr>\n",
       "    <tr>\n",
       "      <th>4</th>\n",
       "      <td>2016-06-01 04:00:00</td>\n",
       "      <td>7.579117</td>\n",
       "      <td>15.689338</td>\n",
       "      <td>46.950880</td>\n",
       "      <td>70.251830</td>\n",
       "      <td>57.881210</td>\n",
       "      <td>55.656567</td>\n",
       "      <td>22.201027</td>\n",
       "      <td>59.806683</td>\n",
       "      <td>121.401970</td>\n",
       "      <td>...</td>\n",
       "      <td>31.661474</td>\n",
       "      <td>16.935438</td>\n",
       "      <td>20.148920</td>\n",
       "      <td>33.026173</td>\n",
       "      <td>51.728554</td>\n",
       "      <td>92.136610</td>\n",
       "      <td>114.037056</td>\n",
       "      <td>130.327450</td>\n",
       "      <td>91.39245</td>\n",
       "      <td>91.330820</td>\n",
       "    </tr>\n",
       "  </tbody>\n",
       "</table>\n",
       "<p>5 rows × 613 columns</p>\n",
       "</div>"
      ],
      "text/plain": [
       "                  Time  region_1075_pred_1  region_1075_pred_2  \\\n",
       "0  2016-06-01 00:00:00           16.275969            8.395596   \n",
       "1  2016-06-01 01:00:00           10.199077            2.086159   \n",
       "2  2016-06-01 02:00:00            2.969585            1.596949   \n",
       "3  2016-06-01 03:00:00            2.906151            5.563781   \n",
       "4  2016-06-01 04:00:00            7.579117           15.689338   \n",
       "\n",
       "   region_1075_pred_3  region_1075_pred_4  region_1075_pred_5  \\\n",
       "0            5.223240            5.900229            6.075602   \n",
       "1            1.090883            8.195955           20.094337   \n",
       "2            7.932816           19.107397           42.493942   \n",
       "3           16.212353           44.392970           68.589960   \n",
       "4           46.950880           70.251830           57.881210   \n",
       "\n",
       "   region_1075_pred_6  region_1076_pred_1  region_1076_pred_2  \\\n",
       "0           21.104652           18.784014            8.166911   \n",
       "1           49.345028            9.194854            7.260076   \n",
       "2           71.383575            5.818487            8.218873   \n",
       "3           60.996870            7.041464           26.468240   \n",
       "4           55.656567           22.201027           59.806683   \n",
       "\n",
       "   region_1076_pred_3         ...          region_2119_pred_3  \\\n",
       "0            6.418157         ...                    9.836746   \n",
       "1           10.103031         ...                    1.302887   \n",
       "2           24.205297         ...                    4.312404   \n",
       "3           67.047170         ...                   16.355448   \n",
       "4          121.401970         ...                   31.661474   \n",
       "\n",
       "   region_2119_pred_4  region_2119_pred_5  region_2119_pred_6  \\\n",
       "0            4.118093            1.596856           16.479183   \n",
       "1            6.501968           16.845543           29.875998   \n",
       "2           12.373288           25.853992           18.350248   \n",
       "3           29.822271           12.960480           23.071472   \n",
       "4           16.935438           20.148920           33.026173   \n",
       "\n",
       "   region_2168_pred_1  region_2168_pred_2  region_2168_pred_3  \\\n",
       "0           48.286045           14.661408            5.560575   \n",
       "1           20.469501           14.912552           13.649523   \n",
       "2            2.733718           18.607346           68.401474   \n",
       "3            9.922137           66.780380           88.696945   \n",
       "4           51.728554           92.136610          114.037056   \n",
       "\n",
       "   region_2168_pred_4  region_2168_pred_5  region_2168_pred_6  \n",
       "0           13.777409            68.21791          100.520355  \n",
       "1           72.135506            99.14274          111.859850  \n",
       "2           93.752140           103.35940          118.808960  \n",
       "3          116.331635           114.75919           92.338340  \n",
       "4          130.327450            91.39245           91.330820  \n",
       "\n",
       "[5 rows x 613 columns]"
      ]
     },
     "execution_count": 217,
     "metadata": {},
     "output_type": "execute_result"
    }
   ],
   "source": [
    "predicted_data.head()"
   ]
  },
  {
   "cell_type": "markdown",
   "metadata": {},
   "source": [
    "# 2. Визуализация реального и предсказанного числа поездок на карте"
   ]
  },
  {
   "cell_type": "markdown",
   "metadata": {},
   "source": [
    "Зададим функции для отображения распределения числа поездок на карте и используем ipywidgets для интерактивного управления датой и временем"
   ]
  },
  {
   "cell_type": "markdown",
   "metadata": {},
   "source": [
    "Т.к. в html версии ноутбука карты не всегда отображаются хорошо, я приложил в архиве 7 картинок с распределениями (реальные и предсказнные на 1-6 часов для момента времени 1 июня 2016 года, 19 часов)"
   ]
  },
  {
   "cell_type": "code",
   "execution_count": 207,
   "metadata": {},
   "outputs": [],
   "source": [
    "def show_real_june_data(date):\n",
    "    index = (date.day - 1) * 24 + date.hour\n",
    "    \n",
    "    latESB, lonESB = 40.748817, -73.985428\n",
    "    mapNY = folium.Map(\n",
    "    location=[latESB, lonESB], min_lon=lonPoints[0], max_lon=lonPoints[-1],min_lat=latPoints[0], max_lat=latPoints[-1], zoom_start=11);\n",
    "    mapNY.choropleth(geo_data=regions_geo, name='choropleth', data=pivot_data.iloc[index,:], columns=['region', 'trip_numbers'],\n",
    "                     key_on='feature.id', fill_color='OrRd', fill_opacity=0.7, line_opacity=0.2, legend_name='Real number of trips', \n",
    "                     reset=True);\n",
    "    mapNY.save('interactive_NYmap_real_data_' + str(date.day) + '_' + str(date.hour) + '.html');\n",
    "    return mapNY"
   ]
  },
  {
   "cell_type": "code",
   "execution_count": 210,
   "metadata": {},
   "outputs": [],
   "source": [
    "def show_predicted_data(date, hour):\n",
    "    index = (date.day - 1) * 24 + date.hour - hour\n",
    "    \n",
    "    columns = predicted_data.columns[hour::6]  \n",
    "    predictded_n_hour = predicted_data[columns]\n",
    "    \n",
    "    active_cells = [x.split('_')[1] for x in predictded_n_hour.columns]\n",
    "    all_cells = range(1, 2501)\n",
    "    nonactive_cells = [x for x in all_cells if x not in active_cells]\n",
    "    \n",
    "    nonactive_columns = ['region_' + str(x) + '_pred_' + str(hour) for x in nonactive_cells]\n",
    "    predictded_n_hour = predictded_n_hour.loc[:, nonactive_columns].fillna(0)\n",
    "\n",
    "    predictded_n_hour.reindex_axis(sorted(predictded_n_hour.columns), axis=1)\n",
    "    \n",
    "    ser = pd.Series(predictded_n_hour.iloc[index, :].values)\n",
    "    \n",
    "    latESB, lonESB = 40.748817, -73.985428\n",
    "    mapNY = folium.Map(\n",
    "    location=[latESB, lonESB], min_lon=lonPoints[0], max_lon=lonPoints[-1],min_lat=latPoints[0], max_lat=latPoints[-1], zoom_start=11);\n",
    "    mapNY.choropleth(geo_data=regions_geo, name='choropleth', data=ser,\n",
    "                     key_on='feature.id', fill_color='OrRd', fill_opacity=0.7, line_opacity=0.2, legend_name='Predicted number of trips', \n",
    "                     reset=True);\n",
    "    mapNY.save('interactive_NYmap_predicted_' + str(hour) + '_data_june_' + str(date.day) + '_' + str(date.hour) +'.html');\n",
    "    return mapNY"
   ]
  },
  {
   "cell_type": "code",
   "execution_count": 68,
   "metadata": {},
   "outputs": [],
   "source": [
    "datetimes = [datetime.datetime(2016,6,i,j) for i in range(1, 31) for j in range(0, 24)]"
   ]
  },
  {
   "cell_type": "markdown",
   "metadata": {},
   "source": [
    "Отображаем реальные данные за июнь"
   ]
  },
  {
   "cell_type": "code",
   "execution_count": 208,
   "metadata": {},
   "outputs": [
    {
     "data": {
      "application/vnd.jupyter.widget-view+json": {
       "model_id": "e71b5f140b724e7aae70ad0d367e20ee",
       "version_major": 2,
       "version_minor": 0
      },
      "text/plain": [
       "aW50ZXJhY3RpdmUoY2hpbGRyZW49KERyb3Bkb3duKGRlc2NyaXB0aW9uPXUnZGF0ZScsIG9wdGlvbnM9KGRhdGV0aW1lLmRhdGV0aW1lKDIwMTYsIDYsIDEsIDAsIDApLCBkYXRldGltZS5kYXTigKY=\n"
      ]
     },
     "metadata": {},
     "output_type": "display_data"
    },
    {
     "data": {
      "text/plain": [
       "<function __main__.show_real_june_data>"
      ]
     },
     "execution_count": 208,
     "metadata": {},
     "output_type": "execute_result"
    }
   ],
   "source": [
    "widgets.interact(show_real_june_data, date=datetimes)"
   ]
  },
  {
   "cell_type": "markdown",
   "metadata": {},
   "source": [
    "Отображаем предсказанные данные за июнь (по предсказаниям от 1 до 6 часов вперед) в тот же момент времени (1 июня 19 часов)"
   ]
  },
  {
   "cell_type": "code",
   "execution_count": 211,
   "metadata": {},
   "outputs": [
    {
     "data": {
      "application/vnd.jupyter.widget-view+json": {
       "model_id": "470cfbde53d54f0f80a02acfbc9d43a7",
       "version_major": 2,
       "version_minor": 0
      },
      "text/plain": [
       "aW50ZXJhY3RpdmUoY2hpbGRyZW49KERyb3Bkb3duKGRlc2NyaXB0aW9uPXUnZGF0ZScsIG9wdGlvbnM9KGRhdGV0aW1lLmRhdGV0aW1lKDIwMTYsIDYsIDEsIDEsIDApLCBkYXRldGltZS5kYXTigKY=\n"
      ]
     },
     "metadata": {},
     "output_type": "display_data"
    },
    {
     "data": {
      "text/plain": [
       "<function __main__.show_predicted_data>"
      ]
     },
     "execution_count": 211,
     "metadata": {},
     "output_type": "execute_result"
    }
   ],
   "source": [
    "datetimes_for_pred = datetimes[1:]\n",
    "widgets.interact(show_predicted_data, date=datetimes_for_pred, hour=fixed(1))"
   ]
  },
  {
   "cell_type": "code",
   "execution_count": 212,
   "metadata": {},
   "outputs": [
    {
     "data": {
      "application/vnd.jupyter.widget-view+json": {
       "model_id": "fe0a2d2279884542b482b5f7228a31e3",
       "version_major": 2,
       "version_minor": 0
      },
      "text/plain": [
       "aW50ZXJhY3RpdmUoY2hpbGRyZW49KERyb3Bkb3duKGRlc2NyaXB0aW9uPXUnZGF0ZScsIG9wdGlvbnM9KGRhdGV0aW1lLmRhdGV0aW1lKDIwMTYsIDYsIDEsIDIsIDApLCBkYXRldGltZS5kYXTigKY=\n"
      ]
     },
     "metadata": {},
     "output_type": "display_data"
    },
    {
     "data": {
      "text/plain": [
       "<function __main__.show_predicted_data>"
      ]
     },
     "execution_count": 212,
     "metadata": {},
     "output_type": "execute_result"
    }
   ],
   "source": [
    "datetimes_for_pred = datetimes[2:]\n",
    "widgets.interact(show_predicted_data, date=datetimes_for_pred, hour=fixed(2))"
   ]
  },
  {
   "cell_type": "code",
   "execution_count": 213,
   "metadata": {},
   "outputs": [
    {
     "data": {
      "application/vnd.jupyter.widget-view+json": {
       "model_id": "22e17fc41d6f4973bc61ec4ea6d2d61b",
       "version_major": 2,
       "version_minor": 0
      },
      "text/plain": [
       "aW50ZXJhY3RpdmUoY2hpbGRyZW49KERyb3Bkb3duKGRlc2NyaXB0aW9uPXUnZGF0ZScsIG9wdGlvbnM9KGRhdGV0aW1lLmRhdGV0aW1lKDIwMTYsIDYsIDEsIDMsIDApLCBkYXRldGltZS5kYXTigKY=\n"
      ]
     },
     "metadata": {},
     "output_type": "display_data"
    },
    {
     "data": {
      "text/plain": [
       "<function __main__.show_predicted_data>"
      ]
     },
     "execution_count": 213,
     "metadata": {},
     "output_type": "execute_result"
    }
   ],
   "source": [
    "datetimes_for_pred = datetimes[3:]\n",
    "widgets.interact(show_predicted_data, date=datetimes_for_pred, hour=fixed(3))"
   ]
  },
  {
   "cell_type": "code",
   "execution_count": 214,
   "metadata": {},
   "outputs": [
    {
     "data": {
      "application/vnd.jupyter.widget-view+json": {
       "model_id": "2ae1f23529ab4ddea41e824793dd20ef",
       "version_major": 2,
       "version_minor": 0
      },
      "text/plain": [
       "aW50ZXJhY3RpdmUoY2hpbGRyZW49KERyb3Bkb3duKGRlc2NyaXB0aW9uPXUnZGF0ZScsIG9wdGlvbnM9KGRhdGV0aW1lLmRhdGV0aW1lKDIwMTYsIDYsIDEsIDQsIDApLCBkYXRldGltZS5kYXTigKY=\n"
      ]
     },
     "metadata": {},
     "output_type": "display_data"
    },
    {
     "data": {
      "text/plain": [
       "<function __main__.show_predicted_data>"
      ]
     },
     "execution_count": 214,
     "metadata": {},
     "output_type": "execute_result"
    }
   ],
   "source": [
    "datetimes_for_pred = datetimes[4:]\n",
    "widgets.interact(show_predicted_data, date=datetimes_for_pred, hour=fixed(4))"
   ]
  },
  {
   "cell_type": "code",
   "execution_count": 215,
   "metadata": {},
   "outputs": [
    {
     "data": {
      "application/vnd.jupyter.widget-view+json": {
       "model_id": "b83479fa084b4308818011061bf99e89",
       "version_major": 2,
       "version_minor": 0
      },
      "text/plain": [
       "aW50ZXJhY3RpdmUoY2hpbGRyZW49KERyb3Bkb3duKGRlc2NyaXB0aW9uPXUnZGF0ZScsIG9wdGlvbnM9KGRhdGV0aW1lLmRhdGV0aW1lKDIwMTYsIDYsIDEsIDUsIDApLCBkYXRldGltZS5kYXTigKY=\n"
      ]
     },
     "metadata": {},
     "output_type": "display_data"
    },
    {
     "data": {
      "text/plain": [
       "<function __main__.show_predicted_data>"
      ]
     },
     "execution_count": 215,
     "metadata": {},
     "output_type": "execute_result"
    }
   ],
   "source": [
    "datetimes_for_pred = datetimes[5:]\n",
    "widgets.interact(show_predicted_data, date=datetimes_for_pred, hour=fixed(5))"
   ]
  },
  {
   "cell_type": "code",
   "execution_count": 216,
   "metadata": {},
   "outputs": [
    {
     "data": {
      "application/vnd.jupyter.widget-view+json": {
       "model_id": "56c246d4aab346619f83cebf35760eb8",
       "version_major": 2,
       "version_minor": 0
      },
      "text/plain": [
       "aW50ZXJhY3RpdmUoY2hpbGRyZW49KERyb3Bkb3duKGRlc2NyaXB0aW9uPXUnZGF0ZScsIG9wdGlvbnM9KGRhdGV0aW1lLmRhdGV0aW1lKDIwMTYsIDYsIDEsIDYsIDApLCBkYXRldGltZS5kYXTigKY=\n"
      ]
     },
     "metadata": {},
     "output_type": "display_data"
    },
    {
     "data": {
      "text/plain": [
       "<function __main__.show_predicted_data>"
      ]
     },
     "execution_count": 216,
     "metadata": {},
     "output_type": "execute_result"
    }
   ],
   "source": [
    "datetimes_for_pred = datetimes[6:]\n",
    "widgets.interact(show_predicted_data, date=datetimes_for_pred, hour=fixed(6))"
   ]
  },
  {
   "cell_type": "markdown",
   "metadata": {},
   "source": [
    "# 3. Визуализация временных рядов"
   ]
  },
  {
   "cell_type": "markdown",
   "metadata": {},
   "source": [
    "Визуализируем графики реального и предсказанного (на 1-6 часов) рядов в зависимости от номера региона. В архив добавлены сохраненные графики для одной из ячеек (1228) для всех 6 случаев"
   ]
  },
  {
   "cell_type": "code",
   "execution_count": 220,
   "metadata": {},
   "outputs": [],
   "source": [
    "columns = predicted_data.columns[1::6]  \n",
    "active_cells = [int(x.split('_')[1]) for x in columns]"
   ]
  },
  {
   "cell_type": "code",
   "execution_count": 243,
   "metadata": {},
   "outputs": [],
   "source": [
    "def plot_june_data(region, hour):\n",
    "    dates = [datetime.datetime(2016,6,i,j) for i in range(1, 31) for j in range(0, 24)][6:]\n",
    "    real_data = pivot_data[region][6:]\n",
    "    \n",
    "    pred_ = predicted_data['region_' + str(region) + '_pred_' + str(hour)][6-hour:-hour]\n",
    "    \n",
    "    plt.figure(figsize=(15, 8))\n",
    "    plt.plot(dates, real_data, color='b', lw=2, label='Real data')\n",
    "    plt.plot(dates, pred_, color='r', lw=2, label=str(hour) + ' hour prediction')\n",
    "    plt.ylabel(\"Number of trips\")\n",
    "    plt.legend()\n",
    "    plt.savefig(str(region) + '_' + str(hour) + 'pred.png', bbox_to_inches='tight')"
   ]
  },
  {
   "cell_type": "code",
   "execution_count": 244,
   "metadata": {},
   "outputs": [
    {
     "data": {
      "application/vnd.jupyter.widget-view+json": {
       "model_id": "c1c76830b9bd4974a210884cc888f126",
       "version_major": 2,
       "version_minor": 0
      },
      "text/plain": [
       "aW50ZXJhY3RpdmUoY2hpbGRyZW49KERyb3Bkb3duKGRlc2NyaXB0aW9uPXUncmVnaW9uJywgb3B0aW9ucz0oMTA3NSwgMTA3NiwgMTA3NywgMTEyNSwgMTEyNiwgMTEyNywgMTEyOCwgMTEyOSzigKY=\n"
      ]
     },
     "metadata": {},
     "output_type": "display_data"
    },
    {
     "data": {
      "text/plain": [
       "<function __main__.plot_june_data>"
      ]
     },
     "execution_count": 244,
     "metadata": {},
     "output_type": "execute_result"
    }
   ],
   "source": [
    "widgets.interact(plot_june_data, region=active_cells, hour=fixed(1))"
   ]
  },
  {
   "cell_type": "code",
   "execution_count": 245,
   "metadata": {},
   "outputs": [
    {
     "data": {
      "application/vnd.jupyter.widget-view+json": {
       "model_id": "ad1cd094f91643c7bc0df6056754de0c",
       "version_major": 2,
       "version_minor": 0
      },
      "text/plain": [
       "aW50ZXJhY3RpdmUoY2hpbGRyZW49KERyb3Bkb3duKGRlc2NyaXB0aW9uPXUncmVnaW9uJywgb3B0aW9ucz0oMTA3NSwgMTA3NiwgMTA3NywgMTEyNSwgMTEyNiwgMTEyNywgMTEyOCwgMTEyOSzigKY=\n"
      ]
     },
     "metadata": {},
     "output_type": "display_data"
    },
    {
     "data": {
      "text/plain": [
       "<function __main__.plot_june_data>"
      ]
     },
     "execution_count": 245,
     "metadata": {},
     "output_type": "execute_result"
    }
   ],
   "source": [
    "widgets.interact(plot_june_data, region=active_cells, hour=fixed(2))"
   ]
  },
  {
   "cell_type": "code",
   "execution_count": 246,
   "metadata": {},
   "outputs": [
    {
     "data": {
      "application/vnd.jupyter.widget-view+json": {
       "model_id": "b14331aae8f74af5bc453e8ec73812c9",
       "version_major": 2,
       "version_minor": 0
      },
      "text/plain": [
       "aW50ZXJhY3RpdmUoY2hpbGRyZW49KERyb3Bkb3duKGRlc2NyaXB0aW9uPXUncmVnaW9uJywgb3B0aW9ucz0oMTA3NSwgMTA3NiwgMTA3NywgMTEyNSwgMTEyNiwgMTEyNywgMTEyOCwgMTEyOSzigKY=\n"
      ]
     },
     "metadata": {},
     "output_type": "display_data"
    },
    {
     "data": {
      "text/plain": [
       "<function __main__.plot_june_data>"
      ]
     },
     "execution_count": 246,
     "metadata": {},
     "output_type": "execute_result"
    }
   ],
   "source": [
    "widgets.interact(plot_june_data, region=active_cells, hour=fixed(3))"
   ]
  },
  {
   "cell_type": "code",
   "execution_count": 247,
   "metadata": {},
   "outputs": [
    {
     "data": {
      "application/vnd.jupyter.widget-view+json": {
       "model_id": "884f53b405534b628ef9a97eeb0eb2a4",
       "version_major": 2,
       "version_minor": 0
      },
      "text/plain": [
       "aW50ZXJhY3RpdmUoY2hpbGRyZW49KERyb3Bkb3duKGRlc2NyaXB0aW9uPXUncmVnaW9uJywgb3B0aW9ucz0oMTA3NSwgMTA3NiwgMTA3NywgMTEyNSwgMTEyNiwgMTEyNywgMTEyOCwgMTEyOSzigKY=\n"
      ]
     },
     "metadata": {},
     "output_type": "display_data"
    },
    {
     "data": {
      "text/plain": [
       "<function __main__.plot_june_data>"
      ]
     },
     "execution_count": 247,
     "metadata": {},
     "output_type": "execute_result"
    }
   ],
   "source": [
    "widgets.interact(plot_june_data, region=active_cells, hour=fixed(4))"
   ]
  },
  {
   "cell_type": "code",
   "execution_count": 248,
   "metadata": {},
   "outputs": [
    {
     "data": {
      "application/vnd.jupyter.widget-view+json": {
       "model_id": "6bcc09108d3645a18aba433e18e43686",
       "version_major": 2,
       "version_minor": 0
      },
      "text/plain": [
       "aW50ZXJhY3RpdmUoY2hpbGRyZW49KERyb3Bkb3duKGRlc2NyaXB0aW9uPXUncmVnaW9uJywgb3B0aW9ucz0oMTA3NSwgMTA3NiwgMTA3NywgMTEyNSwgMTEyNiwgMTEyNywgMTEyOCwgMTEyOSzigKY=\n"
      ]
     },
     "metadata": {},
     "output_type": "display_data"
    },
    {
     "data": {
      "text/plain": [
       "<function __main__.plot_june_data>"
      ]
     },
     "execution_count": 248,
     "metadata": {},
     "output_type": "execute_result"
    }
   ],
   "source": [
    "widgets.interact(plot_june_data, region=active_cells, hour=fixed(5))"
   ]
  },
  {
   "cell_type": "code",
   "execution_count": 249,
   "metadata": {},
   "outputs": [
    {
     "data": {
      "application/vnd.jupyter.widget-view+json": {
       "model_id": "fb0459e8e50f407c83b3bb3eaace4dfa",
       "version_major": 2,
       "version_minor": 0
      },
      "text/plain": [
       "aW50ZXJhY3RpdmUoY2hpbGRyZW49KERyb3Bkb3duKGRlc2NyaXB0aW9uPXUncmVnaW9uJywgb3B0aW9ucz0oMTA3NSwgMTA3NiwgMTA3NywgMTEyNSwgMTEyNiwgMTEyNywgMTEyOCwgMTEyOSzigKY=\n"
      ]
     },
     "metadata": {},
     "output_type": "display_data"
    },
    {
     "data": {
      "text/plain": [
       "<function __main__.plot_june_data>"
      ]
     },
     "execution_count": 249,
     "metadata": {},
     "output_type": "execute_result"
    }
   ],
   "source": [
    "widgets.interact(plot_june_data, region=active_cells, hour=fixed(6))"
   ]
  }
 ],
 "metadata": {
  "kernelspec": {
   "display_name": "Python 2",
   "language": "python",
   "name": "python2"
  },
  "language_info": {
   "codemirror_mode": {
    "name": "ipython",
    "version": 2
   },
   "file_extension": ".py",
   "mimetype": "text/x-python",
   "name": "python",
   "nbconvert_exporter": "python",
   "pygments_lexer": "ipython2",
   "version": "2.7.15"
  }
 },
 "nbformat": 4,
 "nbformat_minor": 2
}
